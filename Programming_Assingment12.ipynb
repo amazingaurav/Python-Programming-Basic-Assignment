{
 "cells": [
  {
   "cell_type": "markdown",
   "metadata": {},
   "source": [
    "1- Write a Python program to Extract Unique values dictionary values?\n",
    "\n",
    "---------------\n",
    "\n",
    "ANSWER\n",
    "\n"
   ]
  },
  {
   "cell_type": "code",
   "execution_count": 47,
   "metadata": {},
   "outputs": [
    {
     "name": "stdout",
     "output_type": "stream",
     "text": [
      "unique values are {1, 2, 3, 4, 5, 6}\n"
     ]
    }
   ],
   "source": [
    "mydict = { 'a': [1,3,4],\n",
    "           'b': [2],\n",
    "            'c': [5],\n",
    "            'd': [4,6],\n",
    "             'e': [4] }\n",
    "\n",
    "result = set([i for j in mydict.values() for i in j])\n",
    "\n",
    "print(f'unique values are {result}')"
   ]
  },
  {
   "cell_type": "markdown",
   "metadata": {},
   "source": [
    "2- Write a Python program to find the sum of all items in a dictionary?\n",
    "\n",
    "\n",
    "---------------\n",
    "\n",
    "ANSWER\n",
    "\n"
   ]
  },
  {
   "cell_type": "code",
   "execution_count": 55,
   "metadata": {},
   "outputs": [
    {
     "name": "stdout",
     "output_type": "stream",
     "text": [
      "sum of values of dictionary is 14 \n"
     ]
    }
   ],
   "source": [
    "mydict = { 'a': 2,\n",
    "           'b': 2,\n",
    "            'c': 5,\n",
    "            'd': 4,\n",
    "             'e': 1}\n",
    "\n",
    "result = [j for i,j in mydict.items()]\n",
    "\n",
    "print(f'sum of values of dictionary is {sum(result)} ')"
   ]
  },
  {
   "cell_type": "markdown",
   "metadata": {},
   "source": [
    "3- Write a Python program to Merging two Dictionaries?\n",
    "\n",
    "----------------------\n",
    "\n",
    "ANSWER"
   ]
  },
  {
   "cell_type": "code",
   "execution_count": 76,
   "metadata": {},
   "outputs": [
    {
     "name": "stdout",
     "output_type": "stream",
     "text": [
      "merged dictionary of {'a': 1, 'b': 22} and {'c': 32, 'd': 10} is {'a': 1, 'b': 22, 'c': 32, 'd': 10}\n"
     ]
    }
   ],
   "source": [
    "mydict1 = { 'a' : 1, 'b' : 22}\n",
    "mydict2 = { 'c': 32, 'd' : 10 }\n",
    "\n",
    "mydict3 = mydict1.copy()\n",
    "\n",
    "keys = [i for i,j in mydict2.items()]\n",
    "values = [j for i,j in mydict2.items()]\n",
    "\n",
    "for i in range(len(keys)):\n",
    "    mydict3[keys[i]] = values[i]\n",
    "    \n",
    "print(f'merged dictionary of {mydict1} and {mydict2} is {mydict3}')"
   ]
  },
  {
   "cell_type": "markdown",
   "metadata": {},
   "source": [
    "4- Write a Python program to convert key-values list to flat dictionary?\n",
    "\n",
    "\n",
    "----------------------\n",
    "\n",
    "ANSWER"
   ]
  },
  {
   "cell_type": "code",
   "execution_count": 83,
   "metadata": {},
   "outputs": [
    {
     "name": "stdout",
     "output_type": "stream",
     "text": [
      "flattened dictionary of {'class': ['1st', '2nd', '3rd', '4th'], 'students': [10, 33, 23, 45]}\n",
      "is {'1st': 10, '2nd': 33, '3rd': 23, '4th': 45}\n"
     ]
    }
   ],
   "source": [
    "mydict4 = { 'class' : ['1st','2nd','3rd','4th'],\n",
    "             'students' : [10,33,23,45]\n",
    "            }\n",
    "\n",
    "result = dict(zip(mydict4['class'], mydict4['students']))\n",
    "\n",
    "print(f'flattened dictionary of {mydict4}\\nis {result}')"
   ]
  },
  {
   "cell_type": "markdown",
   "metadata": {},
   "source": [
    "5 - Write a Python program to insertion at the beginning in OrderedDict?\n",
    "\n",
    "---------------\n",
    "\n",
    "ANSWER"
   ]
  },
  {
   "cell_type": "code",
   "execution_count": 85,
   "metadata": {},
   "outputs": [
    {
     "name": "stdout",
     "output_type": "stream",
     "text": [
      "output ordered dictionary is OrderedDict([('Jan', '1'), ('Feb', '2'), ('Mar', '3')])\n"
     ]
    }
   ],
   "source": [
    "from collections import OrderedDict\n",
    "\n",
    "ordered_dict = OrderedDict([('Feb', '2'), ('Mar', '3')])\n",
    "  \n",
    "ordered_dict.update({'Jan':'1'})\n",
    "ordered_dict.move_to_end('Jan', last = False)\n",
    "  \n",
    "print (f\"output ordered dictionary is {str(ordered_dict)}\" )"
   ]
  },
  {
   "cell_type": "markdown",
   "metadata": {},
   "source": [
    "6 - Write a Python program to check order of character in string using OrderedDict()?\n",
    "\n",
    "---------------\n",
    "\n",
    "ANSWER"
   ]
  },
  {
   "cell_type": "code",
   "execution_count": 90,
   "metadata": {},
   "outputs": [
    {
     "name": "stdout",
     "output_type": "stream",
     "text": [
      "enter a string: hello world\n",
      "enter the pattern: ed\n",
      "Pattern matched\n"
     ]
    }
   ],
   "source": [
    "from collections import OrderedDict \n",
    "  \n",
    "def checkOrder(inputstr, pattern): \n",
    "    dict = OrderedDict.fromkeys(inputstr) \n",
    "    ptrlen = 0\n",
    "    for key,value in dict.items(): \n",
    "        if (key == pattern[ptrlen]): \n",
    "            ptrlen = ptrlen + 1\n",
    "        if (ptrlen == (len(pattern))): \n",
    "            return 'Pattern matched'\n",
    "    return 'Pattern not matched'\n",
    "\n",
    "inputstr = input('enter a string: ')\n",
    "pattern = input('enter the pattern: ')\n",
    "print(checkOrder(inputstr, pattern))"
   ]
  },
  {
   "cell_type": "markdown",
   "metadata": {},
   "source": [
    "7 - Write a Python program to sort Python Dictionaries by Key or Value?\n",
    "\n",
    "---------------\n",
    "\n",
    "ANSWER"
   ]
  },
  {
   "cell_type": "code",
   "execution_count": 114,
   "metadata": {},
   "outputs": [
    {
     "name": "stdout",
     "output_type": "stream",
     "text": [
      "unsorted dictionary {1: 2, 2: 1, 4: 3, 3: 4, 6: 5, 5: 6}\n",
      "sorted by keys [1, 2, 3, 4, 5, 6]\n",
      "sorted dictionary [(1, 2), (2, 1), (3, 4), (4, 3), (5, 6), (6, 5)]\n"
     ]
    }
   ],
   "source": [
    "a = {1:2 ,2:1 ,4:3 ,3:4 ,6:5 ,5:6 }\n",
    "\n",
    "print('unsorted dictionary', a)\n",
    "print('sorted by keys', sorted(a.keys()))\n",
    "print('sorted dictionary',sorted(a.items()))"
   ]
  },
  {
   "cell_type": "code",
   "execution_count": 138,
   "metadata": {},
   "outputs": [
    {
     "name": "stdout",
     "output_type": "stream",
     "text": [
      "Keys and Values sorted in order by the keys \n",
      "(1, 345) (2, 50) (3, 50) (4, 2) (5, 142) (6, 12) "
     ]
    }
   ],
   "source": [
    "def dictionary_sorted_by_keys():\n",
    "    key_value = {}\n",
    "    key_value[2] = 50\n",
    "    key_value[1] = 345\n",
    "    key_value[5] = 142\n",
    "    key_value[4] = 2\n",
    "    key_value[6] = 12\n",
    "    key_value[3] = 50\n",
    "\n",
    "    print (\"Keys and Values sorted in order by the keys \")\n",
    "    for i in sorted(key_value) :\n",
    "        print((i, key_value[i]), end =\" \")\n",
    "\n",
    "\n",
    "if __name__ == \"__main__\":\n",
    "    dictionary_sorted_by_keys()"
   ]
  },
  {
   "cell_type": "code",
   "execution_count": 140,
   "metadata": {},
   "outputs": [
    {
     "name": "stdout",
     "output_type": "stream",
     "text": [
      "Keys and Values sorted in order by the values\n",
      "[(4, 2), (6, 12), (2, 50), (3, 50), (5, 142), (1, 345)]\n"
     ]
    }
   ],
   "source": [
    "def dictionary_sorted_by_values():\n",
    "    key_value ={}\n",
    "    key_value[2] = 50\n",
    "    key_value[1] = 345\n",
    "    key_value[5] = 142\n",
    "    key_value[4] = 2\n",
    "    key_value[6] = 12\n",
    "    key_value[3] = 50\n",
    "\n",
    "    print (\"Keys and Values sorted in order by the values\")\n",
    "    print(sorted(key_value.items(), key = lambda keyvalue:(keyvalue[1], keyvalue[0])))\n",
    "    \n",
    "if __name__==\"__main__\":\t\n",
    "    dictionary_sorted_by_values()"
   ]
  }
 ],
 "metadata": {
  "kernelspec": {
   "display_name": "Python 3",
   "language": "python",
   "name": "python3"
  },
  "language_info": {
   "codemirror_mode": {
    "name": "ipython",
    "version": 3
   },
   "file_extension": ".py",
   "mimetype": "text/x-python",
   "name": "python",
   "nbconvert_exporter": "python",
   "pygments_lexer": "ipython3",
   "version": "3.6.4"
  }
 },
 "nbformat": 4,
 "nbformat_minor": 2
}
