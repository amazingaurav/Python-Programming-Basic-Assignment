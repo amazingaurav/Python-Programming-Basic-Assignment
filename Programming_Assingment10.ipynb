{
 "cells": [
  {
   "cell_type": "markdown",
   "metadata": {},
   "source": [
    "1- Write a Python program to find sum of elements in list?\n",
    "\n",
    "---------------\n",
    "\n",
    "ANSWER\n",
    "\n"
   ]
  },
  {
   "cell_type": "code",
   "execution_count": 11,
   "metadata": {},
   "outputs": [
    {
     "name": "stdout",
     "output_type": "stream",
     "text": [
      "enter the elements you want in list: 5\n",
      "enter the elements : 34\n",
      "enter the elements : 5\n",
      "enter the elements : 43\n",
      "enter the elements : 6\n",
      "enter the elements : 20\n",
      "your list is [34, 5, 43, 6, 20]\n"
     ]
    }
   ],
   "source": [
    "mylist = []\n",
    "num = int(input('enter the elements you want in list: '))\n",
    "\n",
    "for i in range(0,num):\n",
    "    mylist.append(int(input('enter the elements : ')))\n",
    "    \n",
    "print(f'your list is {mylist}')"
   ]
  },
  {
   "cell_type": "code",
   "execution_count": 14,
   "metadata": {},
   "outputs": [
    {
     "name": "stdout",
     "output_type": "stream",
     "text": [
      "Sum of the elements of list [34, 5, 43, 6, 20] is 108\n"
     ]
    }
   ],
   "source": [
    "print(f'Sum of the elements of list {mylist} is {sum(mylist)}')"
   ]
  },
  {
   "cell_type": "markdown",
   "metadata": {},
   "source": [
    "2- Write a Python program to Multiply all numbers in the list?\n",
    "\n",
    "\n",
    "---------------\n",
    "\n",
    "ANSWER\n",
    "\n"
   ]
  },
  {
   "cell_type": "code",
   "execution_count": 15,
   "metadata": {},
   "outputs": [
    {
     "name": "stdout",
     "output_type": "stream",
     "text": [
      "Multiplication of the elements of list [34, 5, 43, 6, 20] is 877200\n"
     ]
    }
   ],
   "source": [
    "mul = 1\n",
    "for i in range(0,len(mylist)):\n",
    "    mul = mul*mylist[i]\n",
    "print(f'Multiplication of the elements of list {mylist} is {mul}')"
   ]
  },
  {
   "cell_type": "markdown",
   "metadata": {},
   "source": [
    "3- Write a Python program to find smallest number in a list?\n",
    "\n",
    "----------------------\n",
    "\n",
    "ANSWER"
   ]
  },
  {
   "cell_type": "code",
   "execution_count": 16,
   "metadata": {},
   "outputs": [
    {
     "name": "stdout",
     "output_type": "stream",
     "text": [
      "smallest element of the list [34, 5, 43, 6, 20] is 5\n"
     ]
    }
   ],
   "source": [
    "print(f'smallest element of the list {mylist} is {min(mylist)}')"
   ]
  },
  {
   "cell_type": "markdown",
   "metadata": {},
   "source": [
    "4- Write a Python program to find largest number in a list?\n",
    "\n",
    "\n",
    "----------------------\n",
    "\n",
    "ANSWER"
   ]
  },
  {
   "cell_type": "code",
   "execution_count": 17,
   "metadata": {},
   "outputs": [
    {
     "name": "stdout",
     "output_type": "stream",
     "text": [
      "largest element of the list [34, 5, 43, 6, 20] is 43\n"
     ]
    }
   ],
   "source": [
    "print(f'largest element of the list {mylist} is {max(mylist)}')"
   ]
  },
  {
   "cell_type": "markdown",
   "metadata": {},
   "source": [
    "5 - Write a Python program to find second largest number in a list?\n",
    "\n",
    "---------------\n",
    "\n",
    "ANSWER"
   ]
  },
  {
   "cell_type": "code",
   "execution_count": 18,
   "metadata": {},
   "outputs": [
    {
     "name": "stdout",
     "output_type": "stream",
     "text": [
      "2nd largest element of the list [34, 5, 43, 6, 20] is 34\n"
     ]
    }
   ],
   "source": [
    "newlist = mylist.copy()\n",
    "newlist.sort()\n",
    "print(f'2nd largest element of the list {mylist} is {newlist[-2]}')"
   ]
  },
  {
   "cell_type": "markdown",
   "metadata": {},
   "source": [
    "6 - Write a Python program to find N largest elements from a list?\n",
    "\n",
    "---------------\n",
    "\n",
    "ANSWER"
   ]
  },
  {
   "cell_type": "code",
   "execution_count": 22,
   "metadata": {},
   "outputs": [
    {
     "name": "stdout",
     "output_type": "stream",
     "text": [
      "enter how many largest elements you want: 3\n",
      "3 largest elements of the list [34, 5, 43, 6, 20] are [20, 34, 43]\n"
     ]
    }
   ],
   "source": [
    "newlist = mylist.copy()\n",
    "newlist.sort()\n",
    "element = int(input('enter how many largest elements you want: '))\n",
    "\n",
    "print(f'{element} largest elements of the list {mylist} are {newlist[len(newlist)-element:]}')"
   ]
  },
  {
   "cell_type": "markdown",
   "metadata": {},
   "source": [
    "7 - Write a Python program to print even numbers in a list?\n",
    "\n",
    "---------------\n",
    "\n",
    "ANSWER"
   ]
  },
  {
   "cell_type": "code",
   "execution_count": 34,
   "metadata": {},
   "outputs": [
    {
     "name": "stdout",
     "output_type": "stream",
     "text": [
      "34\n",
      "6\n",
      "20\n"
     ]
    }
   ],
   "source": [
    "for i in range(len(mylist)):\n",
    "    if mylist[i]%2 == 0:\n",
    "        print(mylist[i])"
   ]
  },
  {
   "cell_type": "markdown",
   "metadata": {},
   "source": [
    "8 - Write a Python program to print odd numbers in a List?\n",
    "\n",
    "---------------\n",
    "\n",
    "ANSWER"
   ]
  },
  {
   "cell_type": "code",
   "execution_count": 29,
   "metadata": {},
   "outputs": [
    {
     "name": "stdout",
     "output_type": "stream",
     "text": [
      "5\n",
      "43\n"
     ]
    }
   ],
   "source": [
    "for i in range(len(mylist)):\n",
    "    if mylist[i]%2 != 0:\n",
    "        print(mylist[i])"
   ]
  },
  {
   "cell_type": "markdown",
   "metadata": {},
   "source": [
    "9 - Write a Python program to Remove empty List from List?\n",
    "\n",
    "---------------\n",
    "\n",
    "ANSWER"
   ]
  },
  {
   "cell_type": "code",
   "execution_count": 68,
   "metadata": {},
   "outputs": [
    {
     "name": "stdout",
     "output_type": "stream",
     "text": [
      "old list was [3, 4, 5, [], 454, 234, 5, [], 43] \n",
      "and new list is [3, 4, 5, 454, 234, 5, 43]\n"
     ]
    }
   ],
   "source": [
    "mylist2 = [3,4,5,[],454,234,5,[],43]\n",
    "oldlist = mylist2.copy()\n",
    "for i in mylist2:\n",
    "    if i == []:\n",
    "        mylist2.remove(i)\n",
    "print(f'old list was {oldlist} \\nand new list is {mylist2}')"
   ]
  },
  {
   "cell_type": "markdown",
   "metadata": {},
   "source": [
    "10 - Write a Python program to Cloning or Copying a list?\n",
    "\n",
    "---------------\n",
    "\n",
    "ANSWER"
   ]
  },
  {
   "cell_type": "code",
   "execution_count": 71,
   "metadata": {},
   "outputs": [
    {
     "name": "stdout",
     "output_type": "stream",
     "text": [
      "original was [34, 5, 43, 6, 20] and copied version is [34, 5, 43, 6, 20]\n"
     ]
    }
   ],
   "source": [
    "mylist\n",
    "\n",
    "copiedlist = mylist.copy()\n",
    "\n",
    "print(f'original was {mylist} and copied version is {copiedlist}')"
   ]
  },
  {
   "cell_type": "markdown",
   "metadata": {},
   "source": [
    "11 - Write a Python program to Count occurrences of an element in a list?\n",
    "\n",
    "---------------\n",
    "\n",
    "ANSWER"
   ]
  },
  {
   "cell_type": "code",
   "execution_count": 76,
   "metadata": {},
   "outputs": [
    {
     "name": "stdout",
     "output_type": "stream",
     "text": [
      "enter the number whose occurrences you want to know: 3\n",
      "3 has occurred 1 number of times in list [3, 4, 5, 454, 234, 5, 43]\n"
     ]
    }
   ],
   "source": [
    "num = int(input('enter the number whose occurrences you want to know: '))\n",
    "count = 0\n",
    "for i in range(0,len(mylist2)):\n",
    "    if mylist2[i] == num:\n",
    "        count +=1\n",
    "print(f'{num} has occurred {count} number of times in list {mylist2}')"
   ]
  },
  {
   "cell_type": "code",
   "execution_count": null,
   "metadata": {},
   "outputs": [],
   "source": []
  }
 ],
 "metadata": {
  "kernelspec": {
   "display_name": "Python 3",
   "language": "python",
   "name": "python3"
  },
  "language_info": {
   "codemirror_mode": {
    "name": "ipython",
    "version": 3
   },
   "file_extension": ".py",
   "mimetype": "text/x-python",
   "name": "python",
   "nbconvert_exporter": "python",
   "pygments_lexer": "ipython3",
   "version": "3.6.4"
  }
 },
 "nbformat": 4,
 "nbformat_minor": 2
}
