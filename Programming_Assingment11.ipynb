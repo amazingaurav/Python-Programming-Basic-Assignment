{
 "cells": [
  {
   "cell_type": "markdown",
   "metadata": {},
   "source": [
    "1- Write a Python program to find words which are greater than given length k?\n",
    "\n",
    "---------------\n",
    "\n",
    "ANSWER\n",
    "\n"
   ]
  },
  {
   "cell_type": "code",
   "execution_count": 11,
   "metadata": {},
   "outputs": [
    {
     "name": "stdout",
     "output_type": "stream",
     "text": [
      "enter a string: hello python programmer, good morning\n",
      "enter the length for which words in the entered string you want to display5\n"
     ]
    },
    {
     "data": {
      "text/plain": [
       "['hello', 'python', 'programmer', 'morning']"
      ]
     },
     "execution_count": 11,
     "metadata": {},
     "output_type": "execute_result"
    }
   ],
   "source": [
    "string = input('enter a string: ')\n",
    "words = string.replace(',','').split(' ')\n",
    "\n",
    "num= int(input('enter the length for which words in the entered string you want to display'))\n",
    "[word for word in words if len(word)>=num]"
   ]
  },
  {
   "cell_type": "markdown",
   "metadata": {},
   "source": [
    "2- Write a Python program for removing i-th character from a string?\n",
    "\n",
    "\n",
    "---------------\n",
    "\n",
    "ANSWER\n",
    "\n"
   ]
  },
  {
   "cell_type": "code",
   "execution_count": 26,
   "metadata": {},
   "outputs": [
    {
     "name": "stdout",
     "output_type": "stream",
     "text": [
      "hello python programmer, good morning --- is the original string\n",
      "\n",
      "enter which character you would like to remove:1\n",
      "\n",
      "hllo python programmr, good morning --- is the new string\n",
      "\n"
     ]
    }
   ],
   "source": [
    "print(f'{string} --- is the original string\\n')\n",
    "\n",
    "char = int(input('enter which character you would like to remove:'))\n",
    "\n",
    "newstring = string.replace(string[char],'')\n",
    "\n",
    "print(f'\\n{newstring} --- is the new string\\n')"
   ]
  },
  {
   "cell_type": "markdown",
   "metadata": {},
   "source": [
    "3- Write a Python program to split and join a string?\n",
    "\n",
    "----------------------\n",
    "\n",
    "ANSWER"
   ]
  },
  {
   "cell_type": "code",
   "execution_count": 58,
   "metadata": {},
   "outputs": [
    {
     "name": "stdout",
     "output_type": "stream",
     "text": [
      "splitting the below string \n",
      "hello python programmer, good morning\n",
      "with white spaces ---- \n",
      "['hello', 'python', 'programmer,', 'good', 'morning']\n"
     ]
    }
   ],
   "source": [
    "print(f\"splitting the below string \\n{string}\\nwith white spaces ---- \\n{string.split(' ')}\")\n"
   ]
  },
  {
   "cell_type": "markdown",
   "metadata": {},
   "source": [
    "4- Write a Python to check if a given string is binary string or not?\n",
    "\n",
    "\n",
    "----------------------\n",
    "\n",
    "ANSWER"
   ]
  },
  {
   "cell_type": "code",
   "execution_count": 70,
   "metadata": {},
   "outputs": [
    {
     "name": "stdout",
     "output_type": "stream",
     "text": [
      "Binary string not found\n",
      "Binary string found\n"
     ]
    }
   ],
   "source": [
    "mystr1 = 'this is a new string'\n",
    "mystr2 = '01010100'\n",
    "\n",
    "def check_str_binary(st):\n",
    "    binaryst = '10'\n",
    "    for i in range(len(st)):\n",
    "        if st[i] not in binaryst:\n",
    "            print('Binary string not found')\n",
    "            break\n",
    "        else:\n",
    "            print('Binary string found')\n",
    "            break\n",
    "\n",
    "check_str_binary(mystr1)\n",
    "check_str_binary(mystr2)"
   ]
  },
  {
   "cell_type": "markdown",
   "metadata": {},
   "source": [
    "5 - Write a Python program to find uncommon words from two Strings?\n",
    "\n",
    "---------------\n",
    "\n",
    "ANSWER"
   ]
  },
  {
   "cell_type": "code",
   "execution_count": 95,
   "metadata": {},
   "outputs": [
    {
     "name": "stdout",
     "output_type": "stream",
     "text": [
      "uncommon words in string\n",
      "this is a string with number one / and / this is a different one named number two are: \n",
      "\n"
     ]
    },
    {
     "data": {
      "text/plain": [
       "{'different', 'named', 'string', 'two', 'with'}"
      ]
     },
     "execution_count": 95,
     "metadata": {},
     "output_type": "execute_result"
    }
   ],
   "source": [
    "mystr1 = 'this is a string with number one'\n",
    "mystr2 = 'this is a different one named number two'\n",
    "\n",
    "lsmystr1 = mystr1.split(' ')\n",
    "lsmystr2 = mystr2.split(' ')\n",
    "\n",
    "uncommon = []\n",
    "\n",
    "def find_uncommon(st1,st2):\n",
    "    for i in range(0,len(lsmystr1)):\n",
    "        if lsmystr1[i] not in lsmystr2:\n",
    "            uncommon.append(lsmystr1[i])\n",
    "    for i in range(0,len(lsmystr2)):\n",
    "        if lsmystr2[i] not in lsmystr1:\n",
    "            uncommon.append(lsmystr2[i])\n",
    "    return set(uncommon)\n",
    "\n",
    "print(f'uncommon words in string\\n{mystr1} / and / {mystr2} are: \\n')\n",
    "find_uncommon(mystr1,mystr2)"
   ]
  },
  {
   "cell_type": "markdown",
   "metadata": {},
   "source": [
    "6 - Write a Python to find all duplicate characters in string?\n",
    "\n",
    "---------------\n",
    "\n",
    "ANSWER"
   ]
  },
  {
   "cell_type": "code",
   "execution_count": 100,
   "metadata": {},
   "outputs": [
    {
     "name": "stdout",
     "output_type": "stream",
     "text": [
      "duplicate characters in string\n",
      "this is a string with number one are: \n",
      " ['t', 'h', 'i', 's', ' ', 'r', 'n', 'e']\n"
     ]
    }
   ],
   "source": [
    "mystr1 = 'this is a string with number one'\n",
    "common = []\n",
    "def find_duplicates(st1):\n",
    "    for i in st1:\n",
    "        if st1.count(i)>1:\n",
    "            if i not in common:\n",
    "                common.append(i)\n",
    "    return common\n",
    "\n",
    "print(f'duplicate characters in string\\n{mystr1} are: \\n {find_duplicates(mystr1)}')"
   ]
  },
  {
   "cell_type": "markdown",
   "metadata": {},
   "source": [
    "7 - Write a Python Program to check if a string contains any special character?\n",
    "\n",
    "---------------\n",
    "\n",
    "ANSWER"
   ]
  },
  {
   "cell_type": "code",
   "execution_count": 110,
   "metadata": {},
   "outputs": [
    {
     "name": "stdout",
     "output_type": "stream",
     "text": [
      "enter the string: Hello Programmer ! This is a new Python program that can fetch you some make $ and @Fame.\n",
      "['!', '$', '@'] special characters found\n"
     ]
    }
   ],
   "source": [
    "specialchar = \"[@_!#$%^&*()<>?/|}{~:]\"\n",
    "mystr = input('enter the string: ')\n",
    "schar = []\n",
    "for i in mystr:\n",
    "    if i in specialchar:\n",
    "        schar.append(i)\n",
    "        \n",
    "        \n",
    "print(f'{schar} special characters found')"
   ]
  },
  {
   "cell_type": "code",
   "execution_count": null,
   "metadata": {},
   "outputs": [],
   "source": []
  }
 ],
 "metadata": {
  "kernelspec": {
   "display_name": "Python 3",
   "language": "python",
   "name": "python3"
  },
  "language_info": {
   "codemirror_mode": {
    "name": "ipython",
    "version": 3
   },
   "file_extension": ".py",
   "mimetype": "text/x-python",
   "name": "python",
   "nbconvert_exporter": "python",
   "pygments_lexer": "ipython3",
   "version": "3.6.4"
  }
 },
 "nbformat": 4,
 "nbformat_minor": 2
}
