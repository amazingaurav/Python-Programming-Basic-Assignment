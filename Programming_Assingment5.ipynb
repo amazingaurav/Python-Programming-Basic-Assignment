{
 "cells": [
  {
   "cell_type": "markdown",
   "metadata": {},
   "source": [
    "Q1.\tWrite a Python Program to Find LCM?\n",
    "\n",
    "----------------\n",
    "\n",
    "ANSWER\n",
    "\n"
   ]
  },
  {
   "cell_type": "code",
   "execution_count": 2,
   "metadata": {},
   "outputs": [
    {
     "name": "stdout",
     "output_type": "stream",
     "text": [
      "enter 1st num: 36\n",
      "enter 2nd num: 24\n",
      "LCM of 36 and 24 is 72\n"
     ]
    }
   ],
   "source": [
    "def findlcm(a,b):\n",
    "    c = max(a,b)\n",
    "    v=c\n",
    "    while True:\n",
    "        if (c%a==0) and (c%b==0):\n",
    "            break\n",
    "        else:\n",
    "            c=c+v\n",
    "    print('LCM of {} and {} is {}'.format((x),(y),(c)))\n",
    "    \n",
    "x = int(input('enter 1st num: '))\n",
    "y = int(input('enter 2nd num: '))\n",
    "\n",
    "findlcm(x,y)"
   ]
  },
  {
   "cell_type": "markdown",
   "metadata": {},
   "source": [
    "Q2.\tWrite a Python Program to Find HCF?\n",
    "\n",
    "------------------\n",
    "\n",
    "ANSWER\n",
    "\n"
   ]
  },
  {
   "cell_type": "code",
   "execution_count": 11,
   "metadata": {},
   "outputs": [
    {
     "name": "stdout",
     "output_type": "stream",
     "text": [
      "enter 1st num: 4\n",
      "enter 2nd num: 18\n",
      "HCF of 4 and 18 is 2\n"
     ]
    }
   ],
   "source": [
    "def findhcf(a,b):\n",
    "    c = max(a,b)\n",
    "    d = min(a,b)\n",
    "    v=c\n",
    "    if d==0:\n",
    "        print('HCF of {} and {} is {}'.format((x1),(y1),(c)))\n",
    "    else:\n",
    "        findhcf(d,c%d)\n",
    "    \n",
    "    \n",
    "    \n",
    "x1 = int(input('enter 1st num: '))\n",
    "y1 = int(input('enter 2nd num: '))\n",
    "\n",
    "findhcf(x1,y1)\n",
    "\n",
    "\n"
   ]
  },
  {
   "cell_type": "markdown",
   "metadata": {},
   "source": [
    "Q3.\tWrite a Python Program to Convert Decimal to Binary, Octal and Hexadecimal?\n",
    "\n",
    "-------------\n",
    "\n",
    "ANSWER\n",
    "\n"
   ]
  },
  {
   "cell_type": "code",
   "execution_count": 21,
   "metadata": {},
   "outputs": [
    {
     "name": "stdout",
     "output_type": "stream",
     "text": [
      "enter a number to convert: 12\n",
      "enter the operation to do: \n",
      "1: Binary\n",
      "2: Octal\n",
      "3: Hexadecimal 4\n",
      "enter the valid operation code\n"
     ]
    }
   ],
   "source": [
    "a1 = int(input('enter a number to convert: '))\n",
    "op = int(input('enter the operation to do: \\n1: Binary\\n2: Octal\\n3: Hexadecimal '))\n",
    "\n",
    "if op==1:\n",
    "    print('converted to Binary: ',bin(a1))\n",
    "elif op==2:\n",
    "    print('converted to Octal: ', oct(a1))\n",
    "elif op==3:\n",
    "    print('converted to Hexadecimal: ', hex(a1))\n",
    "else:\n",
    "    print('enter the valid operation code')"
   ]
  },
  {
   "cell_type": "markdown",
   "metadata": {},
   "source": [
    "Q4.\tWrite a Python Program To Find ASCII value of a character?\n",
    "\n",
    "-------------\n",
    "\n",
    "ANSWER\n",
    "\n"
   ]
  },
  {
   "cell_type": "code",
   "execution_count": 24,
   "metadata": {},
   "outputs": [
    {
     "name": "stdout",
     "output_type": "stream",
     "text": [
      "enter a character to find it's ASCII value: A\n",
      " ASCII value is:  65\n"
     ]
    }
   ],
   "source": [
    "s= input('enter a character to find it\\'s ASCII value: ')\n",
    "print(' ASCII value is: ',ord(s))"
   ]
  },
  {
   "cell_type": "markdown",
   "metadata": {},
   "source": [
    "Q5.\tWrite a Python Program to Make a Simple Calculator with 4 basic mathematical operations?\n",
    "\n",
    "-------------\n",
    "\n",
    "ANSWER\n",
    "\n"
   ]
  },
  {
   "cell_type": "code",
   "execution_count": 3,
   "metadata": {},
   "outputs": [
    {
     "name": "stdout",
     "output_type": "stream",
     "text": [
      "enter the first num: 40\n",
      "enter the second num: 30\n",
      "enter the operation you need to perform \n",
      " 1: add\n",
      " 2: subtract\n",
      " 3: multiply\n",
      " 4: divide\n",
      "3\n",
      "40 * 30 = 1200\n"
     ]
    }
   ],
   "source": [
    "num1 = int(input('enter the first num: '))\n",
    "num2 = int(input('enter the second num: '))\n",
    "op1= int(input('enter the operation you need to perform \\n 1: add\\n 2: subtract\\n 3: multiply\\n 4: divide\\n'))\n",
    "\n",
    "if op1 == 1:\n",
    "    print('{} + {} = {}'.format((num1),(num2),(num1+num2)))\n",
    "elif op1 == 2:\n",
    "    print('{} - {} = {}'.format((num1),(num2),(num1-num2)))\n",
    "elif op1 == 3:\n",
    "    print('{} * {} = {}'.format((num1),(num2),(num1*num2)))\n",
    "elif op1 == 4:\n",
    "    print('{} / {} = {}'.format((num1),(num2),(num1/num2)))\n",
    "else:\n",
    "    print('enter a valid operation{}')"
   ]
  },
  {
   "cell_type": "code",
   "execution_count": null,
   "metadata": {},
   "outputs": [],
   "source": []
  }
 ],
 "metadata": {
  "kernelspec": {
   "display_name": "Python 3",
   "language": "python",
   "name": "python3"
  },
  "language_info": {
   "codemirror_mode": {
    "name": "ipython",
    "version": 3
   },
   "file_extension": ".py",
   "mimetype": "text/x-python",
   "name": "python",
   "nbconvert_exporter": "python",
   "pygments_lexer": "ipython3",
   "version": "3.6.4"
  }
 },
 "nbformat": 4,
 "nbformat_minor": 2
}
