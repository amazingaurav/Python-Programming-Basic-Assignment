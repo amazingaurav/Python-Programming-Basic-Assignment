{
 "cells": [
  {
   "cell_type": "markdown",
   "metadata": {},
   "source": [
    "1- Write a Python program to check if the given number is a Disarium Number?\n",
    "\n",
    "---------------\n",
    "\n",
    "ANSWER\n",
    "\n"
   ]
  },
  {
   "cell_type": "markdown",
   "metadata": {},
   "source": [
    "Definition : A number is said to be the Disarium number when the sum of its digit raised to the power of their respective positions becomes equal to the number itself."
   ]
  },
  {
   "cell_type": "code",
   "execution_count": 31,
   "metadata": {},
   "outputs": [
    {
     "name": "stdout",
     "output_type": "stream",
     "text": [
      "enter the number to check: 175\n",
      " 175 is Disarium True/False: True\n"
     ]
    }
   ],
   "source": [
    "# 175\n",
    "# sum raise to their positional power = num itself = 1(1)+7(2)+5(3)\n",
    "\n",
    "num = int(input('enter the number to check: '))\n",
    "\n",
    "def check_disarium(num):\n",
    "    temp = num\n",
    "    i =0\n",
    "    while temp != 0:\n",
    "        temp = temp//10\n",
    "        i += 1\n",
    "    temp = num\n",
    "    temp1 = temp2 = 0\n",
    "    while temp != 0:\n",
    "        temp1 = temp%10\n",
    "        temp2 += temp1**i\n",
    "        temp = temp//10\n",
    "        i -= 1\n",
    "    return temp2\n",
    "\n",
    "print(f' {num} is Disarium True/False: {check_disarium(num)==num}')"
   ]
  },
  {
   "cell_type": "markdown",
   "metadata": {},
   "source": [
    "2- Write a Python program to print all disarium numbers between 1 to 100?\n",
    "\n",
    "\n",
    "---------------\n",
    "\n",
    "ANSWER\n",
    "\n"
   ]
  },
  {
   "cell_type": "code",
   "execution_count": 35,
   "metadata": {},
   "outputs": [
    {
     "name": "stdout",
     "output_type": "stream",
     "text": [
      "1 is a disarium number\n",
      "2 is a disarium number\n",
      "3 is a disarium number\n",
      "4 is a disarium number\n",
      "5 is a disarium number\n",
      "6 is a disarium number\n",
      "7 is a disarium number\n",
      "8 is a disarium number\n",
      "9 is a disarium number\n",
      "89 is a disarium number\n"
     ]
    }
   ],
   "source": [
    "for i in range(1,101):\n",
    "    if i == check_disarium(i):\n",
    "        print(f'{i} is a disarium number')"
   ]
  },
  {
   "cell_type": "markdown",
   "metadata": {},
   "source": [
    "3- Write a Python program to check if the given number is Happy Number?\n",
    "\n",
    "----------------------\n",
    "\n",
    "ANSWER"
   ]
  },
  {
   "cell_type": "markdown",
   "metadata": {},
   "source": [
    "definition - happy if it yields 1 when replaced by the sum of squares of its digits repeatedly"
   ]
  },
  {
   "cell_type": "code",
   "execution_count": 13,
   "metadata": {},
   "outputs": [
    {
     "name": "stdout",
     "output_type": "stream",
     "text": [
      "enter a number: 49\n",
      "49 is a happy number\n"
     ]
    }
   ],
   "source": [
    "def ishappynum(num):\n",
    "    sum1 = 0\n",
    "    while num>0:\n",
    "        temp=num%10\n",
    "        sum1 += temp**2\n",
    "        num=num//10\n",
    "    return sum1\n",
    "\n",
    "num = int(input('enter a number: '))\n",
    "\n",
    "result = num\n",
    "\n",
    "while (result != 1 and result != 4):\n",
    "    result = ishappynum(result)\n",
    "\n",
    "if result == 1:\n",
    "    print(f'{num} is a happy number')\n",
    "else:\n",
    "    print(f'{num} is not a happy number')"
   ]
  },
  {
   "cell_type": "markdown",
   "metadata": {},
   "source": [
    "4- Write a Python program to print all happy numbers between 1 and 100?\n",
    "\n",
    "\n",
    "----------------------\n",
    "\n",
    "ANSWER"
   ]
  },
  {
   "cell_type": "code",
   "execution_count": 14,
   "metadata": {},
   "outputs": [
    {
     "name": "stdout",
     "output_type": "stream",
     "text": [
      "1 is a happy number\n",
      "7 is a happy number\n",
      "10 is a happy number\n",
      "13 is a happy number\n",
      "19 is a happy number\n",
      "23 is a happy number\n",
      "28 is a happy number\n",
      "31 is a happy number\n",
      "32 is a happy number\n",
      "44 is a happy number\n",
      "49 is a happy number\n",
      "68 is a happy number\n",
      "70 is a happy number\n",
      "79 is a happy number\n",
      "82 is a happy number\n",
      "86 is a happy number\n",
      "91 is a happy number\n",
      "94 is a happy number\n",
      "97 is a happy number\n",
      "100 is a happy number\n"
     ]
    }
   ],
   "source": [
    "for num in range(1,101):\n",
    "    result = num\n",
    "    while (result != 1 and result != 4):\n",
    "        result = ishappynum(result)\n",
    "    if result == 1:\n",
    "        print(f'{num} is a happy number')"
   ]
  },
  {
   "cell_type": "markdown",
   "metadata": {},
   "source": [
    "5 - Write a Python program to determine whether the given number is a Harshad Number?\n",
    "\n",
    "---------------\n",
    "\n",
    "ANSWER"
   ]
  },
  {
   "cell_type": "code",
   "execution_count": 22,
   "metadata": {},
   "outputs": [
    {
     "name": "stdout",
     "output_type": "stream",
     "text": [
      "enter a number: 12\n",
      "12 is a harshad number\n"
     ]
    }
   ],
   "source": [
    "def isharshadnum(num):\n",
    "    sum1 = 0\n",
    "    while num>0:\n",
    "        temp=num%10\n",
    "        sum1 += temp\n",
    "        num=num//10\n",
    "    return sum1\n",
    "num = int(input('enter a number: '))\n",
    "\n",
    "if num%isharshadnum(num) == 0:\n",
    "    print(f'{num} is a harshad number')\n",
    "else:\n",
    "    print(f'{num} is not a harshad number')"
   ]
  },
  {
   "cell_type": "markdown",
   "metadata": {},
   "source": [
    "6 - Write a Python program to print all pronic numbers between 1 and 100?\n",
    "\n",
    "---------------\n",
    "\n",
    "ANSWER"
   ]
  },
  {
   "cell_type": "code",
   "execution_count": 24,
   "metadata": {},
   "outputs": [
    {
     "name": "stdout",
     "output_type": "stream",
     "text": [
      "1 is a harshad number\n",
      "2 is a harshad number\n",
      "3 is a harshad number\n",
      "4 is a harshad number\n",
      "5 is a harshad number\n",
      "6 is a harshad number\n",
      "7 is a harshad number\n",
      "8 is a harshad number\n",
      "9 is a harshad number\n",
      "10 is a harshad number\n",
      "12 is a harshad number\n",
      "18 is a harshad number\n",
      "20 is a harshad number\n",
      "21 is a harshad number\n",
      "24 is a harshad number\n",
      "27 is a harshad number\n",
      "30 is a harshad number\n",
      "36 is a harshad number\n",
      "40 is a harshad number\n",
      "42 is a harshad number\n",
      "45 is a harshad number\n",
      "48 is a harshad number\n",
      "50 is a harshad number\n",
      "54 is a harshad number\n",
      "60 is a harshad number\n",
      "63 is a harshad number\n",
      "70 is a harshad number\n",
      "72 is a harshad number\n",
      "80 is a harshad number\n",
      "81 is a harshad number\n",
      "84 is a harshad number\n",
      "90 is a harshad number\n",
      "100 is a harshad number\n"
     ]
    }
   ],
   "source": [
    "for num in range(1,101):\n",
    "    if num%isharshadnum(num) == 0:\n",
    "        print(f'{num} is a harshad number')"
   ]
  }
 ],
 "metadata": {
  "kernelspec": {
   "display_name": "Python 3",
   "language": "python",
   "name": "python3"
  },
  "language_info": {
   "codemirror_mode": {
    "name": "ipython",
    "version": 3
   },
   "file_extension": ".py",
   "mimetype": "text/x-python",
   "name": "python",
   "nbconvert_exporter": "python",
   "pygments_lexer": "ipython3",
   "version": "3.6.4"
  }
 },
 "nbformat": 4,
 "nbformat_minor": 2
}
