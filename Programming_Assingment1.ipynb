{
 "cells": [
  {
   "cell_type": "markdown",
   "metadata": {},
   "source": [
    "Q1.\tWrite a Python program to print \"Hello Python\"?\n",
    "\n",
    "-------------\n",
    "\n",
    "ANSWER\n",
    "\n"
   ]
  },
  {
   "cell_type": "code",
   "execution_count": 1,
   "metadata": {},
   "outputs": [
    {
     "name": "stdout",
     "output_type": "stream",
     "text": [
      "Hello Python\n"
     ]
    }
   ],
   "source": [
    "print('Hello Python')"
   ]
  },
  {
   "cell_type": "markdown",
   "metadata": {},
   "source": [
    "Q2.\tWrite a Python program to do arithmetical operations addition and division.?\n",
    "\n",
    "---------\n",
    "\n",
    "ANSWER\n",
    "\n"
   ]
  },
  {
   "cell_type": "code",
   "execution_count": 3,
   "metadata": {},
   "outputs": [
    {
     "name": "stdout",
     "output_type": "stream",
     "text": [
      "this is addition of a and b 30\n",
      "this is division of a by b 0.5\n"
     ]
    }
   ],
   "source": [
    "a=10\n",
    "b=20\n",
    "print('this is addition of a and b',a+b)\n",
    "print('this is division of a by b',a/b)"
   ]
  },
  {
   "cell_type": "markdown",
   "metadata": {},
   "source": [
    "Q3.\tWrite a Python program to find the area of a triangle?\n",
    "\n",
    "-----------\n",
    "\n",
    "ANSWER\n",
    "\n"
   ]
  },
  {
   "cell_type": "code",
   "execution_count": 12,
   "metadata": {},
   "outputs": [
    {
     "name": "stdout",
     "output_type": "stream",
     "text": [
      "enter the first side of triangle : 3\n",
      "enter the second side of triangle : 4\n",
      "enter the third side of triangle : 5\n",
      " area of the triangle is 6.0\n"
     ]
    }
   ],
   "source": [
    "s1 = float(input('enter the first side of triangle : '))\n",
    "s2 = float(input('enter the second side of triangle : '))\n",
    "s3 = float(input('enter the third side of triangle : '))\n",
    "\n",
    "s=(s1+s2+s3)/2\n",
    "\n",
    "area = (s*(s-a)*(s-b)*(s-c))**0.5\n",
    "print(' area of the triangle is {}'.format(area))\n"
   ]
  },
  {
   "cell_type": "markdown",
   "metadata": {},
   "source": [
    "Q4.\tWrite a Python program to swap two variables?\n",
    "\n",
    "--------------\n",
    "\n",
    "ANSWER\n",
    "\n"
   ]
  },
  {
   "cell_type": "code",
   "execution_count": 16,
   "metadata": {},
   "outputs": [
    {
     "name": "stdout",
     "output_type": "stream",
     "text": [
      "enter the first variable: 10\n",
      "enter the Second variable: 20\n",
      "first variable and second variable are now 20 and 10 \n"
     ]
    }
   ],
   "source": [
    "v1 = input('enter the first variable: ')\n",
    "v2 = input('enter the Second variable: ')\n",
    "\n",
    "v3=v1\n",
    "v1=v2\n",
    "v2=v3\n",
    "\n",
    "print('first variable and second variable are now {} and {} '.format((v1),(v2)))"
   ]
  },
  {
   "cell_type": "markdown",
   "metadata": {},
   "source": [
    "Q5.\tWrite a Python program to generate a random number?\n",
    "\n",
    "-------------\n",
    "\n",
    "ANSWER\n",
    "\n"
   ]
  },
  {
   "cell_type": "code",
   "execution_count": 24,
   "metadata": {},
   "outputs": [
    {
     "name": "stdout",
     "output_type": "stream",
     "text": [
      "13\n"
     ]
    }
   ],
   "source": [
    "import random\n",
    "\n",
    "print(random.randint(0,20))"
   ]
  },
  {
   "cell_type": "code",
   "execution_count": null,
   "metadata": {},
   "outputs": [],
   "source": []
  }
 ],
 "metadata": {
  "kernelspec": {
   "display_name": "Python 3",
   "language": "python",
   "name": "python3"
  },
  "language_info": {
   "codemirror_mode": {
    "name": "ipython",
    "version": 3
   },
   "file_extension": ".py",
   "mimetype": "text/x-python",
   "name": "python",
   "nbconvert_exporter": "python",
   "pygments_lexer": "ipython3",
   "version": "3.6.4"
  }
 },
 "nbformat": 4,
 "nbformat_minor": 2
}
