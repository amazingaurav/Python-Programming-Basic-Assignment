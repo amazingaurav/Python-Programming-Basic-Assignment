{
 "cells": [
  {
   "cell_type": "markdown",
   "metadata": {},
   "source": [
    "Q1.\tWrite a Python program to convert kilometers to miles?\n",
    "\n",
    "------------\n",
    "\n",
    "ANSWER\n",
    "\n"
   ]
  },
  {
   "cell_type": "code",
   "execution_count": 8,
   "metadata": {},
   "outputs": [
    {
     "name": "stdout",
     "output_type": "stream",
     "text": [
      "Enter distance in Kilometers: 4.5\n",
      "Distance in miles is  2.7961695\n"
     ]
    }
   ],
   "source": [
    "a = float(input('Enter distance in Kilometers: '))\n",
    "b= a*0.621371\n",
    "print('Distance in miles is ',b)"
   ]
  },
  {
   "cell_type": "markdown",
   "metadata": {},
   "source": [
    "Q2.\tWrite a Python program to convert Celsius to Fahrenheit?\n",
    "\n",
    "------------\n",
    "\n",
    "ANSWER\n",
    "\n"
   ]
  },
  {
   "cell_type": "code",
   "execution_count": 9,
   "metadata": {},
   "outputs": [
    {
     "name": "stdout",
     "output_type": "stream",
     "text": [
      "Enter temperature in Celcius: 32\n",
      "Temperature in Fahrenheight is  89.6\n"
     ]
    }
   ],
   "source": [
    "c = float(input('Enter temperature in Celcius: '))\n",
    "d= ((c)*9/5)+32\n",
    "print('Temperature in Fahrenheight is ',d)"
   ]
  },
  {
   "cell_type": "markdown",
   "metadata": {},
   "source": [
    "Q3.\tWrite a Python program to display calendar?\n",
    "\n",
    "-------------\n",
    "\n",
    "ANSWER\n",
    "\n"
   ]
  },
  {
   "cell_type": "code",
   "execution_count": 20,
   "metadata": {},
   "outputs": [
    {
     "name": "stdout",
     "output_type": "stream",
     "text": [
      "enter year: 2021\n",
      "enter month: 01\n",
      "    January 2021\n",
      "Mo Tu We Th Fr Sa Su\n",
      "             1  2  3\n",
      " 4  5  6  7  8  9 10\n",
      "11 12 13 14 15 16 17\n",
      "18 19 20 21 22 23 24\n",
      "25 26 27 28 29 30 31\n",
      "\n",
      "                                  2021\n",
      "\n",
      "      January                   February                   March\n",
      "Mo Tu We Th Fr Sa Su      Mo Tu We Th Fr Sa Su      Mo Tu We Th Fr Sa Su\n",
      "             1  2  3       1  2  3  4  5  6  7       1  2  3  4  5  6  7\n",
      " 4  5  6  7  8  9 10       8  9 10 11 12 13 14       8  9 10 11 12 13 14\n",
      "11 12 13 14 15 16 17      15 16 17 18 19 20 21      15 16 17 18 19 20 21\n",
      "18 19 20 21 22 23 24      22 23 24 25 26 27 28      22 23 24 25 26 27 28\n",
      "25 26 27 28 29 30 31                                29 30 31\n",
      "\n",
      "       April                      May                       June\n",
      "Mo Tu We Th Fr Sa Su      Mo Tu We Th Fr Sa Su      Mo Tu We Th Fr Sa Su\n",
      "          1  2  3  4                      1  2          1  2  3  4  5  6\n",
      " 5  6  7  8  9 10 11       3  4  5  6  7  8  9       7  8  9 10 11 12 13\n",
      "12 13 14 15 16 17 18      10 11 12 13 14 15 16      14 15 16 17 18 19 20\n",
      "19 20 21 22 23 24 25      17 18 19 20 21 22 23      21 22 23 24 25 26 27\n",
      "26 27 28 29 30            24 25 26 27 28 29 30      28 29 30\n",
      "                          31\n",
      "\n",
      "        July                     August                  September\n",
      "Mo Tu We Th Fr Sa Su      Mo Tu We Th Fr Sa Su      Mo Tu We Th Fr Sa Su\n",
      "          1  2  3  4                         1             1  2  3  4  5\n",
      " 5  6  7  8  9 10 11       2  3  4  5  6  7  8       6  7  8  9 10 11 12\n",
      "12 13 14 15 16 17 18       9 10 11 12 13 14 15      13 14 15 16 17 18 19\n",
      "19 20 21 22 23 24 25      16 17 18 19 20 21 22      20 21 22 23 24 25 26\n",
      "26 27 28 29 30 31         23 24 25 26 27 28 29      27 28 29 30\n",
      "                          30 31\n",
      "\n",
      "      October                   November                  December\n",
      "Mo Tu We Th Fr Sa Su      Mo Tu We Th Fr Sa Su      Mo Tu We Th Fr Sa Su\n",
      "             1  2  3       1  2  3  4  5  6  7             1  2  3  4  5\n",
      " 4  5  6  7  8  9 10       8  9 10 11 12 13 14       6  7  8  9 10 11 12\n",
      "11 12 13 14 15 16 17      15 16 17 18 19 20 21      13 14 15 16 17 18 19\n",
      "18 19 20 21 22 23 24      22 23 24 25 26 27 28      20 21 22 23 24 25 26\n",
      "25 26 27 28 29 30 31      29 30                     27 28 29 30 31\n",
      "\n"
     ]
    }
   ],
   "source": [
    "import calendar\n",
    "\n",
    "yy = int(input('enter year: '))\n",
    "mm = int(input('enter month: ' ))\n",
    "\n",
    "print(calendar.month(yy,mm))\n",
    "\n",
    "print(calendar.calendar(yy))"
   ]
  },
  {
   "cell_type": "markdown",
   "metadata": {},
   "source": [
    "Q4.\tWrite a Python program to solve quadratic equation?\n",
    "\n",
    "---------------\n",
    "\n",
    "ANSWER\n",
    "\n"
   ]
  },
  {
   "cell_type": "code",
   "execution_count": 69,
   "metadata": {},
   "outputs": [
    {
     "name": "stdout",
     "output_type": "stream",
     "text": [
      "enter the quadratic quation in the form ax^2 + bx+ c : \n",
      "enter value of a: 1\n",
      "enter value of b: 4\n",
      "enter value of c: 5\n",
      "roots of the equation 1.0x^2 + 4.0x + 5.0 are found to be (-2+1j) and (-2-1j)\n"
     ]
    }
   ],
   "source": [
    "#ax2+bx+c=0\n",
    "\n",
    "print('enter the quadratic quation in the form ax^2 + bx+ c : ')\n",
    "a1=float(input('enter value of a: '))\n",
    "b1=float(input('enter value of b: '))\n",
    "c1=float(input('enter value of c: '))\n",
    "\n",
    "#d1=(((b1**2)-(4*a1*c1))**0.5)\n",
    "#d1 = (b1**2)-(4*a1*c1)\n",
    "d1 = complex(((b1**2)-(4*a1*c1))**0.5)\n",
    "#d2 = d1**0.5\n",
    "\n",
    "r1 = (-b1+d1)/2*a1\n",
    "r2 = (-b1-d1)/2*a1\n",
    "\n",
    "print('roots of the equation {}x^2 + {}x + {} are found to be {} and {}'.format(a1,b1,c1,r1,r2))"
   ]
  },
  {
   "cell_type": "markdown",
   "metadata": {},
   "source": [
    "Q5.\tWrite a Python program to swap two variables without temp variable?\n",
    "\n",
    "------------\n",
    "\n",
    "ANSWER\n",
    "\n"
   ]
  },
  {
   "cell_type": "code",
   "execution_count": 70,
   "metadata": {},
   "outputs": [
    {
     "name": "stdout",
     "output_type": "stream",
     "text": [
      "enter the first variable: -5\n",
      "enter the second variable: 10\n",
      "value of first variable after swapping is :  10\n",
      "value of second variable after swapping is :  -5\n"
     ]
    }
   ],
   "source": [
    "v1 = int(input('enter the first variable: '))\n",
    "v2 = int(input('enter the second variable: '))\n",
    "\n",
    "v2=v2+v1\n",
    "v1=v2-v1\n",
    "v2=v2-v1\n",
    "\n",
    "print('value of first variable after swapping is : ',v1)\n",
    "print('value of second variable after swapping is : ',v2)"
   ]
  },
  {
   "cell_type": "code",
   "execution_count": null,
   "metadata": {},
   "outputs": [],
   "source": []
  }
 ],
 "metadata": {
  "kernelspec": {
   "display_name": "Python 3",
   "language": "python",
   "name": "python3"
  },
  "language_info": {
   "codemirror_mode": {
    "name": "ipython",
    "version": 3
   },
   "file_extension": ".py",
   "mimetype": "text/x-python",
   "name": "python",
   "nbconvert_exporter": "python",
   "pygments_lexer": "ipython3",
   "version": "3.6.4"
  }
 },
 "nbformat": 4,
 "nbformat_minor": 2
}
