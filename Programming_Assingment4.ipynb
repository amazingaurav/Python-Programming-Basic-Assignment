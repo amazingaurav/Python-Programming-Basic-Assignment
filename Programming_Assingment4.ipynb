{
 "cells": [
  {
   "cell_type": "markdown",
   "metadata": {},
   "source": [
    "Q1.\tWrite a Python Program to Find the Factorial of a Number?\n",
    "\n",
    "----------------\n",
    "\n",
    "ANSWER\n",
    "\n"
   ]
  },
  {
   "cell_type": "code",
   "execution_count": 12,
   "metadata": {},
   "outputs": [
    {
     "name": "stdout",
     "output_type": "stream",
     "text": [
      "enter a number to find factorial : 6\n",
      "720\n"
     ]
    }
   ],
   "source": [
    "a= int(input('enter a number to find factorial : '))\n",
    "f=1\n",
    "for i in range(2,a+1):\n",
    "    f=f*(i)\n",
    "print(f)"
   ]
  },
  {
   "cell_type": "markdown",
   "metadata": {},
   "source": [
    "Q2.\tWrite a Python Program to Display the multiplication Table?\n",
    "\n",
    "------------------\n",
    "\n",
    "ANSWER\n",
    "\n"
   ]
  },
  {
   "cell_type": "code",
   "execution_count": 16,
   "metadata": {},
   "outputs": [
    {
     "name": "stdout",
     "output_type": "stream",
     "text": [
      "enter a number to find multiplication table of a number: 3\n",
      "3\n",
      "6\n",
      "9\n",
      "12\n",
      "15\n",
      "18\n",
      "21\n",
      "24\n",
      "27\n",
      "30\n"
     ]
    }
   ],
   "source": [
    "b = int(input('enter a number to find multiplication table of a number: '))\n",
    "j=1\n",
    "for i in range(1,11):\n",
    "    j=b*i\n",
    "    print(j)"
   ]
  },
  {
   "cell_type": "markdown",
   "metadata": {},
   "source": [
    "Q3.\tWrite a Python Program to Print the Fibonacci sequence?\n",
    "\n",
    "--------------\n",
    "\n",
    "ANSWER\n",
    "\n"
   ]
  },
  {
   "cell_type": "code",
   "execution_count": 32,
   "metadata": {},
   "outputs": [
    {
     "name": "stdout",
     "output_type": "stream",
     "text": [
      "till which number you need to find fibonacci sequence: 5\n",
      "0\n",
      "1\n",
      "1\n",
      "2\n",
      "3\n",
      "5\n"
     ]
    }
   ],
   "source": [
    "n1,n2 = 0,1\n",
    "c = int(input('till which number you need to find fibonacci sequence: '))\n",
    "\n",
    "if c == 1:\n",
    "    print(n1)\n",
    "else:\n",
    "    for i in range(c+1):\n",
    "        print(n1)\n",
    "        c =n1+n2\n",
    "        n1=n2\n",
    "        n2=c"
   ]
  },
  {
   "cell_type": "markdown",
   "metadata": {},
   "source": [
    "Q4.\tWrite a Python Program to Check Armstrong Number?\n",
    "\n",
    "-------------------\n",
    "\n",
    "ANSWER\n",
    "\n"
   ]
  },
  {
   "cell_type": "code",
   "execution_count": 76,
   "metadata": {},
   "outputs": [
    {
     "name": "stdout",
     "output_type": "stream",
     "text": [
      "enter a number to check: 54748\n",
      "Armstrong number\n"
     ]
    }
   ],
   "source": [
    "d= int(input('enter a number to check: '))\n",
    "num=d\n",
    "r=0\n",
    "s=str(d)\n",
    "\n",
    "while (d!=0):\n",
    "    temp1 = d%10 #153%10=3 #15#10=5\n",
    "    r = r + temp1**len(s)\n",
    "    d=int(d/10) #153/10=15 #15/10=1\n",
    "if num==r:\n",
    "    print('Armstrong number')\n",
    "else:\n",
    "    print('Not an armstrong number')\n",
    "\n"
   ]
  },
  {
   "cell_type": "markdown",
   "metadata": {},
   "source": [
    "Q5.\tWrite a Python Program to Find Armstrong Number in an Interval?\n",
    "\n",
    "--------------\n",
    "\n",
    "ANSWER\n",
    "\n"
   ]
  },
  {
   "cell_type": "code",
   "execution_count": 100,
   "metadata": {},
   "outputs": [
    {
     "name": "stdout",
     "output_type": "stream",
     "text": [
      "153\n",
      "370\n",
      "371\n",
      "407\n"
     ]
    }
   ],
   "source": [
    "for i in range(100,1000):\n",
    "    j = len(str(i))\n",
    "    r=0\n",
    "    temp2=i\n",
    "    while temp2>0:\n",
    "        temp1 = temp2%10\n",
    "        r = r + temp1**j\n",
    "        temp2=int(temp2/10)\n",
    "    if i==r:\n",
    "        print(i)"
   ]
  },
  {
   "cell_type": "markdown",
   "metadata": {},
   "source": [
    "Q6.\tWrite a Python Program to Find the Sum of Natural Numbers?\n",
    "\n",
    "-------------------\n",
    "\n",
    "ANSWER\n",
    "\n"
   ]
  },
  {
   "cell_type": "code",
   "execution_count": 77,
   "metadata": {},
   "outputs": [
    {
     "name": "stdout",
     "output_type": "stream",
     "text": [
      "enter a number: 10\n",
      "sum of 10 natural numbers is : 55.0 \n"
     ]
    }
   ],
   "source": [
    "n=int(input('enter a number: '))\n",
    "sum = n*(n+1)/2\n",
    "print('sum of {} natural numbers is : {} '.format((n),(sum)))"
   ]
  },
  {
   "cell_type": "code",
   "execution_count": null,
   "metadata": {},
   "outputs": [],
   "source": []
  }
 ],
 "metadata": {
  "kernelspec": {
   "display_name": "Python 3",
   "language": "python",
   "name": "python3"
  },
  "language_info": {
   "codemirror_mode": {
    "name": "ipython",
    "version": 3
   },
   "file_extension": ".py",
   "mimetype": "text/x-python",
   "name": "python",
   "nbconvert_exporter": "python",
   "pygments_lexer": "ipython3",
   "version": "3.6.4"
  }
 },
 "nbformat": 4,
 "nbformat_minor": 2
}
