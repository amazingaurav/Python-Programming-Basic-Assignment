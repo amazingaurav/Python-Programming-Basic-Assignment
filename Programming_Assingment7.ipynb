{
 "cells": [
  {
   "cell_type": "markdown",
   "metadata": {},
   "source": [
    "1- Write a Python Program to find sum of array?\n",
    "\n",
    "---------------\n",
    "\n",
    "ANSWER\n",
    "\n"
   ]
  },
  {
   "cell_type": "code",
   "execution_count": 1,
   "metadata": {},
   "outputs": [
    {
     "name": "stdout",
     "output_type": "stream",
     "text": [
      "16\n"
     ]
    }
   ],
   "source": [
    "arr = [1,2,3,4,6]\n",
    "sum=0\n",
    "for i in arr:\n",
    "    sum += i\n",
    "    \n",
    "print(sum)"
   ]
  },
  {
   "cell_type": "markdown",
   "metadata": {},
   "source": [
    "2- Write a Python Program to find largest element in an array?\n",
    "\n",
    "\n",
    "---------------\n",
    "\n",
    "ANSWER\n",
    "\n"
   ]
  },
  {
   "cell_type": "code",
   "execution_count": 2,
   "metadata": {},
   "outputs": [
    {
     "data": {
      "text/plain": [
       "89"
      ]
     },
     "execution_count": 2,
     "metadata": {},
     "output_type": "execute_result"
    }
   ],
   "source": [
    "def find_largest(arr1):\n",
    "    largest = arr1[0]\n",
    "    for i in range(1,len(arr1)):\n",
    "        if arr1[i] > largest:\n",
    "            largest=arr1[i]\n",
    "    return largest\n",
    "\n",
    "\n",
    "find_largest([34,5,62,4,89,43])"
   ]
  },
  {
   "cell_type": "markdown",
   "metadata": {},
   "source": [
    "3- Write a Python Program for array rotation?\n",
    "\n",
    "----------------------\n",
    "\n",
    "ANSWER"
   ]
  },
  {
   "cell_type": "code",
   "execution_count": 3,
   "metadata": {},
   "outputs": [
    {
     "name": "stdout",
     "output_type": "stream",
     "text": [
      "Enter the array elements separated by comma (,) : 1,2,3,4,5,6\n",
      "[4, 5, 6, 1, 2, 3]\n"
     ]
    }
   ],
   "source": [
    "def rotate_n_times(arr2,n):\n",
    "    for i in range(0,n):\n",
    "        rotate_one_time(arr2)\n",
    "    return arr2\n",
    "    \n",
    "\n",
    "def rotate_one_time(arr2):\n",
    "    temp = arr2[0]\n",
    "    for i in range(0,len(arr2)-1):\n",
    "        arr2[i] = arr2[i+1]\n",
    "    arr2[-1] = temp\n",
    "    return arr2\n",
    "\n",
    "if __name__ == \"__main__\":\n",
    "    lst1 = [int(item) for item in input(\"Enter the array elements separated by comma (,) : \").split(',')]\n",
    "    print(rotate_n_times(lst1,3))"
   ]
  },
  {
   "cell_type": "markdown",
   "metadata": {},
   "source": [
    "4- Write a Python Program to Split the array and add the first part to the end?\n",
    "\n",
    "\n",
    "----------------------\n",
    "\n",
    "ANSWER"
   ]
  },
  {
   "cell_type": "code",
   "execution_count": 4,
   "metadata": {},
   "outputs": [],
   "source": [
    "def splitarray(arr,num,part_pos):\n",
    "    for i in range(0, part_pos):\n",
    "        temp = arr[0]\n",
    "        for j in range(0,num-1):\n",
    "            arr[j] = arr[j+1]\n",
    "        arr[num-1] = temp    \n",
    "    return arr"
   ]
  },
  {
   "cell_type": "code",
   "execution_count": 5,
   "metadata": {},
   "outputs": [
    {
     "data": {
      "text/plain": [
       "[5, 6, 1, 2, 3, 4]"
      ]
     },
     "execution_count": 5,
     "metadata": {},
     "output_type": "execute_result"
    }
   ],
   "source": [
    "arr3 = [1,2,3,4,5,6]\n",
    "num = len(arr3)\n",
    "part_pos = 4\n",
    "splitarray(arr3,num,part_pos)"
   ]
  },
  {
   "cell_type": "markdown",
   "metadata": {},
   "source": [
    "5 - Write a Python Program to check if given array is Monotonic?\n",
    "\n",
    "---------------\n",
    "\n",
    "ANSWER"
   ]
  },
  {
   "cell_type": "code",
   "execution_count": 6,
   "metadata": {},
   "outputs": [],
   "source": [
    "def Monotonic_check(arr):\n",
    "    return (all(arr[i] <= arr[i+1] for i in range(len(arr)-1)) or all(arr[i] >= arr[i+1] for i in range(len(arr)-1)))"
   ]
  },
  {
   "cell_type": "code",
   "execution_count": 7,
   "metadata": {},
   "outputs": [
    {
     "name": "stdout",
     "output_type": "stream",
     "text": [
      "False\n",
      "True\n"
     ]
    }
   ],
   "source": [
    "arr1 = [1,2,3,5,4,5,6]\n",
    "arr2 = [9,8,7,7,6,5,4,3]\n",
    "\n",
    "print(Monotonic_check(arr1))\n",
    "print(Monotonic_check(arr2))"
   ]
  },
  {
   "cell_type": "code",
   "execution_count": null,
   "metadata": {},
   "outputs": [],
   "source": []
  }
 ],
 "metadata": {
  "kernelspec": {
   "display_name": "Python 3",
   "language": "python",
   "name": "python3"
  },
  "language_info": {
   "codemirror_mode": {
    "name": "ipython",
    "version": 3
   },
   "file_extension": ".py",
   "mimetype": "text/x-python",
   "name": "python",
   "nbconvert_exporter": "python",
   "pygments_lexer": "ipython3",
   "version": "3.6.4"
  }
 },
 "nbformat": 4,
 "nbformat_minor": 2
}
