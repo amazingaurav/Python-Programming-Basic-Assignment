{
 "cells": [
  {
   "cell_type": "markdown",
   "metadata": {},
   "source": [
    "1- Write a Python Program to Add Two Matrices?\n",
    "\n",
    "---------------\n",
    "\n",
    "ANSWER\n",
    "\n"
   ]
  },
  {
   "cell_type": "code",
   "execution_count": 25,
   "metadata": {},
   "outputs": [],
   "source": [
    "mat1 = [[1,2],\n",
    "        [3,4]]\n",
    "mat2 = [[5,6],\n",
    "        [7,8]]"
   ]
  },
  {
   "cell_type": "code",
   "execution_count": 26,
   "metadata": {},
   "outputs": [],
   "source": [
    "def add_mat(mat1,mat2):\n",
    "    return [[mat1[i][j] + mat2[i][j] for j in range(len(mat1[0]))] for i in range(len(mat1))]"
   ]
  },
  {
   "cell_type": "code",
   "execution_count": 34,
   "metadata": {},
   "outputs": [
    {
     "data": {
      "text/plain": [
       "array([[ 6,  8],\n",
       "       [10, 12]])"
      ]
     },
     "execution_count": 34,
     "metadata": {},
     "output_type": "execute_result"
    }
   ],
   "source": [
    "np.add(mat1,mat2)"
   ]
  },
  {
   "cell_type": "code",
   "execution_count": 27,
   "metadata": {},
   "outputs": [
    {
     "data": {
      "text/plain": [
       "[[6, 8], [10, 12]]"
      ]
     },
     "execution_count": 27,
     "metadata": {},
     "output_type": "execute_result"
    }
   ],
   "source": [
    "add_mat(mat1,mat2)"
   ]
  },
  {
   "cell_type": "markdown",
   "metadata": {},
   "source": [
    "2- Write a Python Program to Multiply Two Matrices?\n",
    "\n",
    "\n",
    "---------------\n",
    "\n",
    "ANSWER\n",
    "\n"
   ]
  },
  {
   "cell_type": "code",
   "execution_count": 84,
   "metadata": {},
   "outputs": [],
   "source": [
    "import numpy as np\n",
    "x=np.array([[1,2],\n",
    "   [3,4]])\n",
    "y=np.array([[5,6],\n",
    "   [7,8]])\n",
    "result = np.zeros((2,2), int)\n",
    "\n",
    "for i in range(0,len(result)):\n",
    "    for j in range(0,len(result[0])):\n",
    "        for k in range(0,len(y)):\n",
    "            result[i][j] += x[i][k]*y[k][j]"
   ]
  },
  {
   "cell_type": "code",
   "execution_count": 85,
   "metadata": {},
   "outputs": [
    {
     "data": {
      "text/plain": [
       "array([[19, 22],\n",
       "       [43, 50]])"
      ]
     },
     "execution_count": 85,
     "metadata": {},
     "output_type": "execute_result"
    }
   ],
   "source": [
    "result"
   ]
  },
  {
   "cell_type": "markdown",
   "metadata": {},
   "source": [
    "3- Write a Python Program to Transpose a Matrix?\n",
    "\n",
    "----------------------\n",
    "\n",
    "ANSWER"
   ]
  },
  {
   "cell_type": "code",
   "execution_count": 114,
   "metadata": {},
   "outputs": [
    {
     "name": "stdout",
     "output_type": "stream",
     "text": [
      "transpose matrix of\n",
      "[1, 2]\n",
      "[3, 4]\n",
      "[5, 6]\n",
      "\n",
      "is\n",
      "\n",
      "[[1 3 5]\n",
      " [2 4 6]]\n"
     ]
    }
   ],
   "source": [
    "x = [[1,2],\n",
    "    [3,4],\n",
    "    [5,6]]\n",
    "\n",
    "result = np.zeros((2,3), int)\n",
    "\n",
    "for i in range(0, len(x)):\n",
    "    for j in range(0,len(x[0])):\n",
    "        result[j][i] = x[i][j]\n",
    "\n",
    "print('transpose matrix of' )\n",
    "for i in x:\n",
    "    print(i)\n",
    "print(f'\\nis\\n\\n{result}')      "
   ]
  },
  {
   "cell_type": "markdown",
   "metadata": {},
   "source": [
    "4- Write a Python Program to Sort Words in Alphabetic Order?\n",
    "\n",
    "\n",
    "----------------------\n",
    "\n",
    "ANSWER"
   ]
  },
  {
   "cell_type": "code",
   "execution_count": 119,
   "metadata": {},
   "outputs": [
    {
     "name": "stdout",
     "output_type": "stream",
     "text": [
      "enter a string: hello world was the first python program\n",
      "first hello program python the was world "
     ]
    }
   ],
   "source": [
    "words = input('enter a string: ')\n",
    "new_word = words.split(' ')\n",
    "new_word.sort()\n",
    "for word in new_word:\n",
    "    print(word, end=' ')"
   ]
  },
  {
   "cell_type": "markdown",
   "metadata": {},
   "source": [
    "5 - Write a Python Program to Remove Punctuation From a String?\n",
    "\n",
    "---------------\n",
    "\n",
    "ANSWER"
   ]
  },
  {
   "cell_type": "code",
   "execution_count": 121,
   "metadata": {},
   "outputs": [
    {
     "name": "stdout",
     "output_type": "stream",
     "text": [
      "enter the string: hello world!! this is a $ random string with & various punctuation marks%\n",
      "hello world this is a  random string with  various punctuation marks\n"
     ]
    }
   ],
   "source": [
    "puncs = '''!()-[]{};:'\"\\,<>./?@#$%^&*_~'''\n",
    "\n",
    "words = input('enter the string: ')\n",
    "\n",
    "for word in words:\n",
    "    if word in puncs:\n",
    "        words = words.replace(word, '')\n",
    "print(words)"
   ]
  },
  {
   "cell_type": "code",
   "execution_count": null,
   "metadata": {},
   "outputs": [],
   "source": []
  }
 ],
 "metadata": {
  "kernelspec": {
   "display_name": "Python 3",
   "language": "python",
   "name": "python3"
  },
  "language_info": {
   "codemirror_mode": {
    "name": "ipython",
    "version": 3
   },
   "file_extension": ".py",
   "mimetype": "text/x-python",
   "name": "python",
   "nbconvert_exporter": "python",
   "pygments_lexer": "ipython3",
   "version": "3.6.4"
  }
 },
 "nbformat": 4,
 "nbformat_minor": 2
}
